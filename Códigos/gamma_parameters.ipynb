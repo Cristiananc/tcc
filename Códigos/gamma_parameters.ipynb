{
 "cells": [
  {
   "cell_type": "code",
   "execution_count": 1,
   "metadata": {},
   "outputs": [],
   "source": [
    "from scipy.optimize import minimize\n",
    "from scipy.stats import gamma\n",
    "from scipy.optimize import NonlinearConstraint"
   ]
  },
  {
   "cell_type": "code",
   "execution_count": 16,
   "metadata": {},
   "outputs": [],
   "source": [
    "def optimize_gamma_parameters(S, p, lb, ub):\n",
    "    con = lambda x: x[0]*x[1]\n",
    "    nlc = NonlinearConstraint(con, lb, ub)\n",
    "    fun = lambda x: abs(gamma.cdf(1/S**2, a = x[0], scale = x[1]) - p)\n",
    "    \n",
    "    res = minimize(fun = fun, x0 = (0.1, 0.1), constraints = nlc)\n",
    "    return res"
   ]
  },
  {
   "cell_type": "markdown",
   "metadata": {},
   "source": [
    "Caso eu faça 0.9 < x[0]*x[1] < 1.1, o problema excede o limite de iterações."
   ]
  },
  {
   "cell_type": "code",
   "execution_count": 22,
   "metadata": {},
   "outputs": [],
   "source": [
    "p = 0.1\n",
    "S = 1\n",
    "lb = 0.9\n",
    "ub = 1.15"
   ]
  },
  {
   "cell_type": "code",
   "execution_count": 23,
   "metadata": {},
   "outputs": [
    {
     "data": {
      "text/plain": [
       "     fun: 2.8654784767212504e-08\n",
       "     jac: array([1.68512557e-02, 1.79060661e+02])\n",
       " message: 'Optimization terminated successfully.'\n",
       "    nfev: 486\n",
       "     nit: 97\n",
       "    njev: 97\n",
       "  status: 0\n",
       " success: True\n",
       "       x: array([1.13340147e+02, 1.00071471e-02])"
      ]
     },
     "execution_count": 23,
     "metadata": {},
     "output_type": "execute_result"
    }
   ],
   "source": [
    "optimize_gamma_parameters(S, p, lb, ub)"
   ]
  },
  {
   "cell_type": "code",
   "execution_count": 24,
   "metadata": {},
   "outputs": [
    {
     "data": {
      "text/plain": [
       "0.10000002549620904"
      ]
     },
     "execution_count": 24,
     "metadata": {},
     "output_type": "execute_result"
    }
   ],
   "source": [
    "gamma.cdf(S, a = 1.13340147e+02, scale = 1.00071471e-02)"
   ]
  },
  {
   "cell_type": "code",
   "execution_count": 25,
   "metadata": {},
   "outputs": [
    {
     "data": {
      "text/plain": [
       "1.1342115233646237"
      ]
     },
     "execution_count": 25,
     "metadata": {},
     "output_type": "execute_result"
    }
   ],
   "source": [
    "1.13340147e+02*1.00071471e-02"
   ]
  },
  {
   "cell_type": "markdown",
   "metadata": {},
   "source": [
    "Fazendo S = 2, por exemplo e p = 0.15"
   ]
  },
  {
   "cell_type": "code",
   "execution_count": 29,
   "metadata": {},
   "outputs": [
    {
     "data": {
      "text/plain": [
       "     fun: 0.6626816687099554\n",
       "     jac: array([-0.43080359, -0.10363479])\n",
       " message: 'Optimization terminated successfully.'\n",
       "    nfev: 80\n",
       "     nit: 19\n",
       "    njev: 19\n",
       "  status: 0\n",
       " success: True\n",
       "       x: array([0.52596552, 2.18645038])"
      ]
     },
     "execution_count": 29,
     "metadata": {},
     "output_type": "execute_result"
    }
   ],
   "source": [
    "optimize_gamma_parameters(2, 0.15, lb, ub)"
   ]
  },
  {
   "cell_type": "code",
   "execution_count": 30,
   "metadata": {},
   "outputs": [
    {
     "data": {
      "text/plain": [
       "0.6437253619036376"
      ]
     },
     "execution_count": 30,
     "metadata": {},
     "output_type": "execute_result"
    }
   ],
   "source": [
    "gamma.cdf(S, a = 0.52596552, scale = 2.18645038)"
   ]
  },
  {
   "cell_type": "code",
   "execution_count": 31,
   "metadata": {},
   "outputs": [
    {
     "data": {
      "text/plain": [
       "1.1499975110708975"
      ]
     },
     "execution_count": 31,
     "metadata": {},
     "output_type": "execute_result"
    }
   ],
   "source": [
    "0.52596552*2.18645038"
   ]
  }
 ],
 "metadata": {
  "kernelspec": {
   "display_name": "Python 3",
   "language": "python",
   "name": "python3"
  },
  "language_info": {
   "codemirror_mode": {
    "name": "ipython",
    "version": 3
   },
   "file_extension": ".py",
   "mimetype": "text/x-python",
   "name": "python",
   "nbconvert_exporter": "python",
   "pygments_lexer": "ipython3",
   "version": "3.6.9"
  }
 },
 "nbformat": 4,
 "nbformat_minor": 4
}
